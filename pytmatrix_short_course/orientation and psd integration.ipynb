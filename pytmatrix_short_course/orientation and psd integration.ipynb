{
 "cells": [
  {
   "cell_type": "markdown",
   "metadata": {},
   "source": [
    "# ORIENTATION"
   ]
  },
  {
   "cell_type": "markdown",
   "metadata": {},
   "source": [
    "###Needings\n",
    "Still need to define a Scatterer with proper radius, wavelength, index of refraction, axis ratio and scattering geometry. The Scatterer 'orient' function is set by default to the function orientation.orient_single() to enable orientation averaging you need to set the 'orient' attribute to a function that is able to perform orientation averaging.\n",
    "\n",
    "orientation package provide two function orient_averaged_fixed() and orient_averaged_adaptive(). I suggest you to use always the fixed version because it is much faster. \n",
    "You may want to define your own integration procedure ... it is possible.\n",
    "\n",
    "Then you have to define the orientation pdf for the beta angle via the 'or_pdf' attribute. orientation module provides uniform_pdf() and gaussian_pdf(std). Beta is normal distributed as default with std=10.\n",
    "As before you can define your own distribution (be careful about beta angle limits and normalization)\n",
    "Alpha is always considered uniformly distributed.\n",
    "\n",
    "Scatterer attributes n_alpha and n_beta define the number of integration points.\n",
    "\n",
    "When orient attribute is set to an averaging function alpha and beta attributes are not considered."
   ]
  },
  {
   "cell_type": "code",
   "execution_count": null,
   "metadata": {
    "collapsed": false
   },
   "outputs": [],
   "source": [
    "%pylab inline\n",
    "from pytmatrix import tmatrix\n",
    "from pytmatrix import tmatrix_aux as aux\n",
    "from pytmatrix import refractive as ref\n",
    "from pytmatrix import orientation as ori\n",
    "from pytmatrix import scatter\n",
    "\n",
    "eq_r = 10.0\n",
    "scatterer = tmatrix.Scatterer(radius=eq_r, wavelength=aux.wl_C, m=ref.m_w_10C[aux.wl_C], \n",
    "                              axis_ratio=1.0/aux.dsr_thurai_2007(eq_r))\n",
    "\n",
    "# ldr is a perfect quantity to check if particles are \"oscillating\"\n",
    "print 'single alpha\\t',scatterer.alpha, '\\tbeta\\t', scatterer.beta ,'\\tldr\\t', scatter.ldr(scatterer)\n",
    "\n",
    "scatterer.orient = ori.orient_averaged_fixed\n",
    "scatterer.or_pdf = ori.gaussian_pdf(std=20.0)\n",
    "print 'ori avg alpha\\t',scatterer.alpha, '\\tbeta\\t', scatterer.beta ,'\\tldr\\t', scatter.ldr(scatterer)\n",
    "\n",
    "# try to change alpha and beta\n",
    "scatterer.alpha = 60.0\n",
    "scatterer.beta = 45.0\n",
    "scatterer.orient = ori.orient_single # switch back to single orientation\n",
    "print '\\nsingle alpha\\t',scatterer.alpha, '\\tbeta\\t', scatterer.beta ,'\\tldr\\t', scatter.ldr(scatterer)\n",
    "\n",
    "scatterer.orient = ori.orient_averaged_fixed\n",
    "print 'ori avg alpha\\t',scatterer.alpha, '\\tbeta\\t', scatterer.beta ,'\\tldr\\t', scatter.ldr(scatterer)\n",
    "print '\\n Increase number of integration points'\n",
    "scatterer.n_alpha = 10\n",
    "scatterer.n_beta = 20\n",
    "print 'ori avg alpha\\t',scatterer.alpha, '\\tbeta\\t', scatterer.beta ,'\\tldr\\t', scatter.ldr(scatterer)\n"
   ]
  },
  {
   "cell_type": "markdown",
   "metadata": {},
   "source": [
    "#PSD INTEGRATION"
   ]
  },
  {
   "cell_type": "markdown",
   "metadata": {},
   "source": [
    "###Needings\n",
    "To enable PSD integration you need to set the Scatterer attribute psd_integrator (default is None) psd.PSDintegrator object.\n",
    "PSDintegrator objects holds some values used in the integration procedure and gives the opportunity to store and load scattering lookup tables. This is particurarly useful when you have recalculate radar properties over the same family of hydrometeors\n",
    "\n",
    "Use the help command to get the docstring with the full list of attributes and methods"
   ]
  },
  {
   "cell_type": "code",
   "execution_count": null,
   "metadata": {
    "collapsed": false
   },
   "outputs": [],
   "source": [
    "from pytmatrix import psd\n",
    "help(psd.PSDIntegrator)"
   ]
  },
  {
   "cell_type": "markdown",
   "metadata": {},
   "source": [
    "## lookup tables\n",
    "First we explore the aux functions ar(r)"
   ]
  },
  {
   "cell_type": "code",
   "execution_count": null,
   "metadata": {
    "collapsed": false,
    "scrolled": true,
    "slideshow": {
     "slide_type": "slide"
    }
   },
   "outputs": [],
   "source": [
    "import numpy as np\n",
    "import matplotlib.pyplot as plt\n",
    "\n",
    "rad = np.linspace(1.0,5.0,100)\n",
    "thurai = np.zeros(rad.shape)\n",
    "dsr_bc = np.zeros(rad.shape)\n",
    "dsr_pb = np.zeros(rad.shape)\n",
    "for i in range(0,len(rad)):\n",
    "    thurai[i] = aux.dsr_thurai_2007(rad[i])\n",
    "    dsr_bc[i] = aux.dsr_bc(rad[i])\n",
    "    dsr_pb[i] = aux.dsr_pb(rad[i])\n",
    "\n",
    "plt.plot(rad,thurai)\n",
    "plt.plot(rad,dsr_pb,'k')\n",
    "plt.plot(rad,dsr_bc,'r')"
   ]
  },
  {
   "cell_type": "markdown",
   "metadata": {},
   "source": [
    "Note that axis ratio values are less than 1, in fact these functions compute the ratio between the vertical and horizontal dimension, on the contrary the Scatterer object needs horizontal to vertical axis ratios.\n",
    "We need to redefine axis ratio functions."
   ]
  },
  {
   "cell_type": "code",
   "execution_count": null,
   "metadata": {
    "collapsed": false
   },
   "outputs": [],
   "source": [
    "scatterer.set_geometry(aux.geom_horiz_back)\n",
    "print 'Single particle scattering', scatter.sca_intensity(scatterer) # we use this as reference for checking PSD integration\n",
    "ar_fun = lambda D: 1.0/aux.dsr_thurai_2007(D)\n",
    "# Ready to define a PSDIntegrator\n",
    "\n",
    "from pytmatrix import psd\n",
    "intPSD = psd.PSDIntegrator()\n",
    "intPSD.D_max = 10.0 # this is maximum diameter for lookup table, but also the upper limit of the psd integration\n",
    "intPSD.axis_ratio_func = ar_fun # if it is left to None, then ar is constant and equal to Scatterer.axis_ratio\n",
    "intPSD.num_points = 1024 # increasing this number will increase the resolution of the lookup table in D\n",
    "intPSD.geometries = (aux.geom_horiz_back,aux.geom_horiz_forw) # you need the lookup table for different geometries\n",
    "                                                            # get different radar quantities\n",
    "scatterer.psd_integrator = intPSD\n",
    "\n",
    "PSD = psd.GammaPSD(D0=1.0, Nw=1e3, mu=4)\n",
    "scatterer.psd = PSD\n",
    "\n",
    "# even if you are not going to save it, you still need to init the scattering table\n",
    "scatterer.psd_integrator.init_scatter_table(scatterer)\n",
    "print 'PSD scattering', scatter.sca_intensity(scatterer)\n",
    "\n",
    "# Change PSD parameters\n",
    "scatterer.psd = psd.GammaPSD(D0=1.0, Nw=4e3, mu=4.0)\n",
    "print 'PSD scattering', scatter.sca_intensity(scatterer)\n",
    "\n",
    "scatterer.psd_integrator.save_scatter_table('./example_table','this is just an example table')"
   ]
  },
  {
   "cell_type": "markdown",
   "metadata": {},
   "source": [
    "##NOTE\n",
    "Scatterer objects use radius as principal dimension whereas PSDs uses diameter\n",
    "The code handles the conversion, but you should be aware of that."
   ]
  },
  {
   "cell_type": "markdown",
   "metadata": {
    "collapsed": false
   },
   "source": [
    "###Load lookup table"
   ]
  },
  {
   "cell_type": "code",
   "execution_count": null,
   "metadata": {
    "collapsed": false
   },
   "outputs": [],
   "source": [
    "particle = tmatrix.Scatterer()\n",
    "particle.psd_integrator = psd.PSDIntegrator()\n",
    "particle.psd_integrator.load_scatter_table('example_table')\n",
    "particle.psd = psd.GammaPSD(D0=1.0,Nw=1e3,mu=4.0)\n",
    "\n",
    "print scatter.sca_intensity(scatterer)\n",
    "print scatter.sca_intensity(particle)\n"
   ]
  },
  {
   "cell_type": "markdown",
   "metadata": {},
   "source": [
    "### First orient, then PSD integration\n",
    "This will cause an error\n",
    "If you ask for a scattering geometry not included in the lookup table an error will occur"
   ]
  },
  {
   "cell_type": "code",
   "execution_count": null,
   "metadata": {
    "collapsed": false
   },
   "outputs": [],
   "source": [
    "particle.beta=0.0\n",
    "print 'beta ', particle.beta, 'Isca ', scatter.sca_intensity(particle)\n",
    "particle.beta=10.0 # comment this line and run again this cell to continue\n",
    "print 'beta ', particle.beta, 'Isca ', scatter.sca_intensity(particle)"
   ]
  },
  {
   "cell_type": "markdown",
   "metadata": {
    "collapsed": false
   },
   "source": [
    "### PSD integration hides any other option"
   ]
  },
  {
   "cell_type": "code",
   "execution_count": null,
   "metadata": {
    "collapsed": false
   },
   "outputs": [],
   "source": [
    "particle.radius=1.0\n",
    "print 'radius\\t ', particle.radius, '\\tIsca\\t ', scatter.sca_intensity(particle)\n",
    "particle.radius=20.0\n",
    "print 'radius\\t ', particle.radius, '\\tIsca\\t ', scatter.sca_intensity(particle)\n",
    "particle.wavelength=10.0\n",
    "print 'wavelen\\t ', particle.wavelength, '\\tIsca\\t ', scatter.sca_intensity(particle)\n",
    "particle.wavelength=1.0\n",
    "print 'wavelen\\t ', particle.wavelength, '\\tIsca\\t ', scatter.sca_intensity(particle)"
   ]
  },
  {
   "cell_type": "markdown",
   "metadata": {
    "collapsed": false
   },
   "source": [
    "If PSDIntegrator is not set to None the code will use the S and Z matrix stored in the lookup table.\n",
    "It is a much better idea to set up different configurations in different Scatterer objects."
   ]
  }
 ],
 "metadata": {
  "kernelspec": {
   "display_name": "Python 2",
   "language": "python",
   "name": "python2"
  },
  "language_info": {
   "codemirror_mode": {
    "name": "ipython",
    "version": 2
   },
   "file_extension": ".py",
   "mimetype": "text/x-python",
   "name": "python",
   "nbconvert_exporter": "python",
   "pygments_lexer": "ipython2",
   "version": "2.7.6"
  }
 },
 "nbformat": 4,
 "nbformat_minor": 0
}
