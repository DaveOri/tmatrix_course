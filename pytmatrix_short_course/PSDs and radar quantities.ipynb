{
 "cells": [
  {
   "cell_type": "markdown",
   "metadata": {},
   "source": [
    "# Different PSDs"
   ]
  },
  {
   "cell_type": "markdown",
   "metadata": {},
   "source": [
    "We saw in the previous notebook just the psd.GammaPSD\n",
    "\n",
    "The psd module also provide some other usefule PSDs:"
   ]
  },
  {
   "cell_type": "code",
   "execution_count": null,
   "metadata": {
    "collapsed": false
   },
   "outputs": [],
   "source": [
    "%pylab inline\n",
    "from pytmatrix import tmatrix, scatter, radar, psd\n",
    "from pytmatrix import tmatrix_aux as aux\n",
    "from pytmatrix import refractive as ref\n",
    "from pytmatrix import orientation as ori\n"
   ]
  },
  {
   "cell_type": "markdown",
   "metadata": {},
   "source": [
    "#PSDs\n",
    "Let's have a look to the provided PSDs"
   ]
  },
  {
   "cell_type": "code",
   "execution_count": null,
   "metadata": {
    "collapsed": false
   },
   "outputs": [],
   "source": [
    "import matplotlib.pyplot as plt\n",
    "import numpy as np\n",
    "diam = np.linspace(0.5,8.0,100)\n",
    "\n",
    "# Exponential\n",
    "exponential = psd.ExponentialPSD(N0=300.0,Lambda=1)\n",
    "\n",
    "# Normalized Gamma\n",
    "gamma = psd.GammaPSD(Nw=1.0e3,mu=4.0,D0=2.0)\n",
    "\n",
    "# Unnormalized Gamma\n",
    "Ugamma = psd.UnnormalizedGammaPSD(N0=1000.0,Lambda=2.,mu=1.2)\n",
    "\n",
    "# Binned\n",
    "bins = np.linspace(0.5,8.5,17)\n",
    "bin_c = np.linspace(1,8,16)\n",
    "binned = psd.BinnedPSD(bin_edges=bins,bin_psd=Ugamma(bin_c))\n",
    "\n",
    "plt.bar(left=bins[0:-1],height=binned(bin_c),width=bins[1]-bins[0],color='green',label='binned')\n",
    "plt.plot(diam,exponential(diam),linewidth=2,label='exp')\n",
    "plt.plot(diam,gamma(diam),'r',linewidth=2,label='gamma')\n",
    "plt.plot(diam,Ugamma(diam),'m',linewidth=2,label='UNgamma')\n",
    "plt.xlabel('Diameter  [mm]')\n",
    "plt.ylabel('Number concentration [m^{-3}]')\n",
    "plt.legend()"
   ]
  },
  {
   "cell_type": "markdown",
   "metadata": {},
   "source": [
    "# Complete example of radar simulation\n",
    "### Preliminaries"
   ]
  },
  {
   "cell_type": "code",
   "execution_count": null,
   "metadata": {
    "collapsed": true
   },
   "outputs": [],
   "source": [
    "drops = tmatrix.Scatterer(wavelength=aux.wl_C,m=ref.m_w_10C[aux.wl_C])\n",
    "drops.Kw_sqr = aux.K_w_sqr[aux.wl_C]\n",
    "drops.or_pdf = ori.gaussian_pdf(std=60.0)\n",
    "drops.orient = ori.orient_averaged_fixed\n",
    "drops.psd_integrator = psd.PSDIntegrator()\n",
    "drops.psd_integrator.D_max = 10.0\n",
    "drops.psd_integrator.axis_ratio_func = lambda D: 1.0/aux.dsr_thurai_2007(D)\n",
    "\n",
    "back = (120.0,60.0,0.0,180.0,0.0,0.0)\n",
    "forw = (120.0,120.0,0.0,0.0, 0.0,0.0)\n",
    "drops.psd_integrator.geometries = (back,forw)"
   ]
  },
  {
   "cell_type": "code",
   "execution_count": null,
   "metadata": {
    "collapsed": false
   },
   "outputs": [],
   "source": [
    "drops.psd_integrator.init_scatter_table(drops)"
   ]
  },
  {
   "cell_type": "markdown",
   "metadata": {},
   "source": [
    "## Radar calculation"
   ]
  },
  {
   "cell_type": "code",
   "execution_count": null,
   "metadata": {
    "collapsed": false,
    "scrolled": true,
    "slideshow": {
     "slide_type": "slide"
    }
   },
   "outputs": [],
   "source": [
    "drops.psd = gamma\n",
    "from pytmatrix import radar\n",
    "drops.set_geometry(back)\n",
    "print 'Zh\\t', radar.refl(drops), '\\t[mm⁶/m³]'  # Radar quantities are in linear scale!!\n",
    "print 'Zh\\t',10*np.log10(radar.refl(drops)) ,'\\t[dBZ]'\n",
    "print 'Zv\\t', radar.refl(drops,False), '\\t[mm⁶/m³]'  # Radar quantities are in linear scale!!\n",
    "print 'Zv\\t',10*np.log10(radar.refl(drops,False)) ,'\\t[dBZ]'\n",
    "print 'Zdr\\t',10*np.log10(radar.Zdr(drops)) ,'\\t[dBZ]'\n",
    "print 'rho_hv\\t',radar.rho_hv(drops)\n",
    "print 'del_hv\\t',radar.delta_hv(drops), '\\t[rad]'\n",
    "print 'ldr\\t',radar.ldr(drops) \n",
    "print 'LDR\\t',10*np.log10(radar.ldr(drops)) ,'\\t[dBZ]'\n",
    "drops.set_geometry(forw)\n",
    "print 'Kdp\\t',radar.Kdp(drops) ,'\\t[deg/km]'\n",
    "print 'Ai\\t',radar.Ai(drops) ,'\\t[dB/km]'  # attenuation is already dBZ"
   ]
  },
  {
   "cell_type": "markdown",
   "metadata": {
    "collapsed": true
   },
   "source": [
    "#### Please do NOT take these as reference values for scattering calculations"
   ]
  },
  {
   "cell_type": "code",
   "execution_count": null,
   "metadata": {
    "collapsed": true
   },
   "outputs": [],
   "source": []
  }
 ],
 "metadata": {
  "kernelspec": {
   "display_name": "Python 2",
   "language": "python",
   "name": "python2"
  },
  "language_info": {
   "codemirror_mode": {
    "name": "ipython",
    "version": 2
   },
   "file_extension": ".py",
   "mimetype": "text/x-python",
   "name": "python",
   "nbconvert_exporter": "python",
   "pygments_lexer": "ipython2",
   "version": "2.7.6"
  }
 },
 "nbformat": 4,
 "nbformat_minor": 0
}
